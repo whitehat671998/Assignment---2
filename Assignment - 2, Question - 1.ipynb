{
 "cells": [
  {
   "cell_type": "code",
   "execution_count": 25,
   "id": "50411ff0",
   "metadata": {},
   "outputs": [
    {
     "name": "stdout",
     "output_type": "stream",
     "text": [
      "Input:\n",
      "[(20, 40), (10, 25), (40, 50), (20, 30), (20, 10)]\n",
      "Output:\n",
      "[(20, 10), (10, 25), (20, 30), (20, 40), (40, 50)]\n"
     ]
    }
   ],
   "source": [
    "l1=[(20,40),(10,25),(40,50),(20,30),(20,10)]\n",
    "print(\"Input:\")\n",
    "print(l1)\n",
    "d={}\n",
    "for i in l1:\n",
    "  #print(i[0],i[1])\n",
    "  x,y=i[0],i[1]\n",
    "  d[y]=x\n",
    "li=[]\n",
    "for p in sorted(d):\n",
    "  #print(d[p],p)\n",
    "  t1=(d[p],p)\n",
    "  li.append(t1)\n",
    "print(\"Output:\")\n",
    "print(li)"
   ]
  },
  {
   "cell_type": "code",
   "execution_count": null,
   "id": "856bf5b4",
   "metadata": {},
   "outputs": [],
   "source": []
  }
 ],
 "metadata": {
  "kernelspec": {
   "display_name": "Python 3 (ipykernel)",
   "language": "python",
   "name": "python3"
  },
  "language_info": {
   "codemirror_mode": {
    "name": "ipython",
    "version": 3
   },
   "file_extension": ".py",
   "mimetype": "text/x-python",
   "name": "python",
   "nbconvert_exporter": "python",
   "pygments_lexer": "ipython3",
   "version": "3.9.12"
  }
 },
 "nbformat": 4,
 "nbformat_minor": 5
}
